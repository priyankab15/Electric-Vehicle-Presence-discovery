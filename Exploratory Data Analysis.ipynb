{
 "cells": [
  {
   "cell_type": "markdown",
   "metadata": {},
   "source": [
    "# Electric Vehicle Presence Discovery\n"
   ]
  },
  {
   "cell_type": "markdown",
   "metadata": {},
   "source": [
    "## EDA"
   ]
  },
  {
   "cell_type": "code",
   "execution_count": 2,
   "metadata": {},
   "outputs": [],
   "source": [
    "#import packages\n",
    "import datetime as dat\n",
    "import os\n",
    "import matplotlib.pyplot as plt\n",
    "import numpy as np\n",
    "import pandas as pd\n",
    "import pylab\n",
    "import scipy.stats as stats\n"
   ]
  },
  {
   "cell_type": "code",
   "execution_count": 11,
   "metadata": {},
   "outputs": [],
   "source": [
    "#load data\n",
    "\n",
    "df = pd.read_csv('Data/averagehour.csv')"
   ]
  },
  {
   "cell_type": "code",
   "execution_count": 12,
   "metadata": {},
   "outputs": [
    {
     "data": {
      "text/html": [
       "<div>\n",
       "<style scoped>\n",
       "    .dataframe tbody tr th:only-of-type {\n",
       "        vertical-align: middle;\n",
       "    }\n",
       "\n",
       "    .dataframe tbody tr th {\n",
       "        vertical-align: top;\n",
       "    }\n",
       "\n",
       "    .dataframe thead th {\n",
       "        text-align: right;\n",
       "    }\n",
       "</style>\n",
       "<table border=\"1\" class=\"dataframe\">\n",
       "  <thead>\n",
       "    <tr style=\"text-align: right;\">\n",
       "      <th></th>\n",
       "      <th>Unnamed: 0</th>\n",
       "      <th>dataid</th>\n",
       "      <th>use</th>\n",
       "      <th>building_type</th>\n",
       "      <th>city</th>\n",
       "      <th>pv</th>\n",
       "      <th>house_construction_year</th>\n",
       "      <th>total_square_footage</th>\n",
       "      <th>car1_y</th>\n",
       "    </tr>\n",
       "  </thead>\n",
       "  <tbody>\n",
       "    <tr>\n",
       "      <th>0</th>\n",
       "      <td>0</td>\n",
       "      <td>59</td>\n",
       "      <td>1.752956</td>\n",
       "      <td>Single-Family Home</td>\n",
       "      <td>Austin</td>\n",
       "      <td>0</td>\n",
       "      <td>2011.0</td>\n",
       "      <td>3825.0</td>\n",
       "      <td>0</td>\n",
       "    </tr>\n",
       "    <tr>\n",
       "      <th>1</th>\n",
       "      <td>1</td>\n",
       "      <td>77</td>\n",
       "      <td>1.638684</td>\n",
       "      <td>Single-Family Home</td>\n",
       "      <td>Austin</td>\n",
       "      <td>1</td>\n",
       "      <td>2009.0</td>\n",
       "      <td>2669.0</td>\n",
       "      <td>0</td>\n",
       "    </tr>\n",
       "    <tr>\n",
       "      <th>2</th>\n",
       "      <td>2</td>\n",
       "      <td>86</td>\n",
       "      <td>1.495249</td>\n",
       "      <td>Single-Family Home</td>\n",
       "      <td>Austin</td>\n",
       "      <td>0</td>\n",
       "      <td>1948.0</td>\n",
       "      <td>1788.0</td>\n",
       "      <td>0</td>\n",
       "    </tr>\n",
       "    <tr>\n",
       "      <th>3</th>\n",
       "      <td>3</td>\n",
       "      <td>93</td>\n",
       "      <td>1.051423</td>\n",
       "      <td>Single-Family Home</td>\n",
       "      <td>Austin</td>\n",
       "      <td>1</td>\n",
       "      <td>1993.0</td>\n",
       "      <td>2934.0</td>\n",
       "      <td>0</td>\n",
       "    </tr>\n",
       "    <tr>\n",
       "      <th>4</th>\n",
       "      <td>4</td>\n",
       "      <td>94</td>\n",
       "      <td>0.691208</td>\n",
       "      <td>Single-Family Home</td>\n",
       "      <td>Austin</td>\n",
       "      <td>0</td>\n",
       "      <td>1975.0</td>\n",
       "      <td>1713.0</td>\n",
       "      <td>0</td>\n",
       "    </tr>\n",
       "  </tbody>\n",
       "</table>\n",
       "</div>"
      ],
      "text/plain": [
       "   Unnamed: 0  dataid       use       building_type    city  pv  \\\n",
       "0           0      59  1.752956  Single-Family Home  Austin   0   \n",
       "1           1      77  1.638684  Single-Family Home  Austin   1   \n",
       "2           2      86  1.495249  Single-Family Home  Austin   0   \n",
       "3           3      93  1.051423  Single-Family Home  Austin   1   \n",
       "4           4      94  0.691208  Single-Family Home  Austin   0   \n",
       "\n",
       "   house_construction_year  total_square_footage  car1_y  \n",
       "0                   2011.0                3825.0       0  \n",
       "1                   2009.0                2669.0       0  \n",
       "2                   1948.0                1788.0       0  \n",
       "3                   1993.0                2934.0       0  \n",
       "4                   1975.0                1713.0       0  "
      ]
     },
     "execution_count": 12,
     "metadata": {},
     "output_type": "execute_result"
    }
   ],
   "source": [
    "\n",
    "#view data\n",
    "df.head()"
   ]
  },
  {
   "cell_type": "code",
   "execution_count": 13,
   "metadata": {},
   "outputs": [],
   "source": [
    "#drop the unamed column\n",
    "df = df.drop(['Unnamed: 0'], axis=1)"
   ]
  },
  {
   "cell_type": "code",
   "execution_count": 14,
   "metadata": {},
   "outputs": [
    {
     "data": {
      "text/html": [
       "<div>\n",
       "<style scoped>\n",
       "    .dataframe tbody tr th:only-of-type {\n",
       "        vertical-align: middle;\n",
       "    }\n",
       "\n",
       "    .dataframe tbody tr th {\n",
       "        vertical-align: top;\n",
       "    }\n",
       "\n",
       "    .dataframe thead th {\n",
       "        text-align: right;\n",
       "    }\n",
       "</style>\n",
       "<table border=\"1\" class=\"dataframe\">\n",
       "  <thead>\n",
       "    <tr style=\"text-align: right;\">\n",
       "      <th></th>\n",
       "      <th>dataid</th>\n",
       "      <th>use</th>\n",
       "      <th>building_type</th>\n",
       "      <th>city</th>\n",
       "      <th>pv</th>\n",
       "      <th>house_construction_year</th>\n",
       "      <th>total_square_footage</th>\n",
       "      <th>car1_y</th>\n",
       "    </tr>\n",
       "  </thead>\n",
       "  <tbody>\n",
       "    <tr>\n",
       "      <th>0</th>\n",
       "      <td>59</td>\n",
       "      <td>1.752956</td>\n",
       "      <td>Single-Family Home</td>\n",
       "      <td>Austin</td>\n",
       "      <td>0</td>\n",
       "      <td>2011.0</td>\n",
       "      <td>3825.0</td>\n",
       "      <td>0</td>\n",
       "    </tr>\n",
       "    <tr>\n",
       "      <th>1</th>\n",
       "      <td>77</td>\n",
       "      <td>1.638684</td>\n",
       "      <td>Single-Family Home</td>\n",
       "      <td>Austin</td>\n",
       "      <td>1</td>\n",
       "      <td>2009.0</td>\n",
       "      <td>2669.0</td>\n",
       "      <td>0</td>\n",
       "    </tr>\n",
       "    <tr>\n",
       "      <th>2</th>\n",
       "      <td>86</td>\n",
       "      <td>1.495249</td>\n",
       "      <td>Single-Family Home</td>\n",
       "      <td>Austin</td>\n",
       "      <td>0</td>\n",
       "      <td>1948.0</td>\n",
       "      <td>1788.0</td>\n",
       "      <td>0</td>\n",
       "    </tr>\n",
       "    <tr>\n",
       "      <th>3</th>\n",
       "      <td>93</td>\n",
       "      <td>1.051423</td>\n",
       "      <td>Single-Family Home</td>\n",
       "      <td>Austin</td>\n",
       "      <td>1</td>\n",
       "      <td>1993.0</td>\n",
       "      <td>2934.0</td>\n",
       "      <td>0</td>\n",
       "    </tr>\n",
       "    <tr>\n",
       "      <th>4</th>\n",
       "      <td>94</td>\n",
       "      <td>0.691208</td>\n",
       "      <td>Single-Family Home</td>\n",
       "      <td>Austin</td>\n",
       "      <td>0</td>\n",
       "      <td>1975.0</td>\n",
       "      <td>1713.0</td>\n",
       "      <td>0</td>\n",
       "    </tr>\n",
       "  </tbody>\n",
       "</table>\n",
       "</div>"
      ],
      "text/plain": [
       "   dataid       use       building_type    city  pv  house_construction_year  \\\n",
       "0      59  1.752956  Single-Family Home  Austin   0                   2011.0   \n",
       "1      77  1.638684  Single-Family Home  Austin   1                   2009.0   \n",
       "2      86  1.495249  Single-Family Home  Austin   0                   1948.0   \n",
       "3      93  1.051423  Single-Family Home  Austin   1                   1993.0   \n",
       "4      94  0.691208  Single-Family Home  Austin   0                   1975.0   \n",
       "\n",
       "   total_square_footage  car1_y  \n",
       "0                3825.0       0  \n",
       "1                2669.0       0  \n",
       "2                1788.0       0  \n",
       "3                2934.0       0  \n",
       "4                1713.0       0  "
      ]
     },
     "execution_count": 14,
     "metadata": {},
     "output_type": "execute_result"
    }
   ],
   "source": [
    "#view df\n",
    "df.head()"
   ]
  },
  {
   "cell_type": "markdown",
   "metadata": {},
   "source": [
    "## Categorical Variables"
   ]
  },
  {
   "cell_type": "code",
   "execution_count": 15,
   "metadata": {},
   "outputs": [
    {
     "data": {
      "text/html": [
       "<div>\n",
       "<style scoped>\n",
       "    .dataframe tbody tr th:only-of-type {\n",
       "        vertical-align: middle;\n",
       "    }\n",
       "\n",
       "    .dataframe tbody tr th {\n",
       "        vertical-align: top;\n",
       "    }\n",
       "\n",
       "    .dataframe thead th {\n",
       "        text-align: right;\n",
       "    }\n",
       "</style>\n",
       "<table border=\"1\" class=\"dataframe\">\n",
       "  <thead>\n",
       "    <tr style=\"text-align: right;\">\n",
       "      <th></th>\n",
       "      <th>dataid</th>\n",
       "      <th>use</th>\n",
       "      <th>pv</th>\n",
       "      <th>house_construction_year</th>\n",
       "      <th>total_square_footage</th>\n",
       "    </tr>\n",
       "    <tr>\n",
       "      <th>car1_y</th>\n",
       "      <th></th>\n",
       "      <th></th>\n",
       "      <th></th>\n",
       "      <th></th>\n",
       "      <th></th>\n",
       "    </tr>\n",
       "  </thead>\n",
       "  <tbody>\n",
       "    <tr>\n",
       "      <th>0</th>\n",
       "      <td>5167.928994</td>\n",
       "      <td>1.255491</td>\n",
       "      <td>0.573964</td>\n",
       "      <td>1989.668639</td>\n",
       "      <td>2191.050296</td>\n",
       "    </tr>\n",
       "    <tr>\n",
       "      <th>1</th>\n",
       "      <td>5295.800000</td>\n",
       "      <td>1.657467</td>\n",
       "      <td>0.888889</td>\n",
       "      <td>1994.777778</td>\n",
       "      <td>2475.233333</td>\n",
       "    </tr>\n",
       "  </tbody>\n",
       "</table>\n",
       "</div>"
      ],
      "text/plain": [
       "             dataid       use        pv  house_construction_year  \\\n",
       "car1_y                                                             \n",
       "0       5167.928994  1.255491  0.573964              1989.668639   \n",
       "1       5295.800000  1.657467  0.888889              1994.777778   \n",
       "\n",
       "        total_square_footage  \n",
       "car1_y                        \n",
       "0                2191.050296  \n",
       "1                2475.233333  "
      ]
     },
     "execution_count": 15,
     "metadata": {},
     "output_type": "execute_result"
    }
   ],
   "source": [
    "#Understand EV\n",
    "df.groupby('car1_y').mean()"
   ]
  },
  {
   "cell_type": "code",
   "execution_count": 16,
   "metadata": {},
   "outputs": [
    {
     "data": {
      "text/plain": [
       "car1_y\n",
       "0    169\n",
       "1     45\n",
       "Name: dataid, dtype: int64"
      ]
     },
     "execution_count": 16,
     "metadata": {},
     "output_type": "execute_result"
    }
   ],
   "source": [
    "df.groupby('car1_y').dataid.nunique()"
   ]
  },
  {
   "cell_type": "code",
   "execution_count": 17,
   "metadata": {},
   "outputs": [
    {
     "data": {
      "text/html": [
       "<div>\n",
       "<style scoped>\n",
       "    .dataframe tbody tr th:only-of-type {\n",
       "        vertical-align: middle;\n",
       "    }\n",
       "\n",
       "    .dataframe tbody tr th {\n",
       "        vertical-align: top;\n",
       "    }\n",
       "\n",
       "    .dataframe thead th {\n",
       "        text-align: right;\n",
       "    }\n",
       "</style>\n",
       "<table border=\"1\" class=\"dataframe\">\n",
       "  <thead>\n",
       "    <tr style=\"text-align: right;\">\n",
       "      <th>pv</th>\n",
       "      <th>0</th>\n",
       "      <th>1</th>\n",
       "    </tr>\n",
       "    <tr>\n",
       "      <th>car1_y</th>\n",
       "      <th></th>\n",
       "      <th></th>\n",
       "    </tr>\n",
       "  </thead>\n",
       "  <tbody>\n",
       "    <tr>\n",
       "      <th>0</th>\n",
       "      <td>72</td>\n",
       "      <td>97</td>\n",
       "    </tr>\n",
       "    <tr>\n",
       "      <th>1</th>\n",
       "      <td>5</td>\n",
       "      <td>40</td>\n",
       "    </tr>\n",
       "  </tbody>\n",
       "</table>\n",
       "</div>"
      ],
      "text/plain": [
       "pv       0   1\n",
       "car1_y        \n",
       "0       72  97\n",
       "1        5  40"
      ]
     },
     "execution_count": 17,
     "metadata": {},
     "output_type": "execute_result"
    }
   ],
   "source": [
    "PV_EV = pd.crosstab(index=df[\"car1_y\"],\n",
    "                       columns=[df['pv']])\n",
    "\n",
    "PV_EV"
   ]
  },
  {
   "cell_type": "code",
   "execution_count": 18,
   "metadata": {},
   "outputs": [
    {
     "data": {
      "text/plain": [
       "<matplotlib.legend.Legend at 0x1cf5bac7e48>"
      ]
     },
     "execution_count": 18,
     "metadata": {},
     "output_type": "execute_result"
    },
    {
     "data": {
      "image/png": "[encoded data removed]",
      "text/plain": [
       "<Figure size 432x288 with 1 Axes>"
      ]
     },
     "metadata": {
      "needs_background": "light"
     },
     "output_type": "display_data"
    }
   ],
   "source": [
    "#create barchart to compare Survived with SEX\n",
    "PV_EV.T.plot(kind='bar', color=['c','m'], grid=False)\n",
    "plt.legend(['no','yes'])  "
   ]
  },
  {
   "cell_type": "code",
   "execution_count": 19,
   "metadata": {},
   "outputs": [
    {
     "data": {
      "text/html": [
       "<div>\n",
       "<style scoped>\n",
       "    .dataframe tbody tr th:only-of-type {\n",
       "        vertical-align: middle;\n",
       "    }\n",
       "\n",
       "    .dataframe tbody tr th {\n",
       "        vertical-align: top;\n",
       "    }\n",
       "\n",
       "    .dataframe thead th {\n",
       "        text-align: right;\n",
       "    }\n",
       "</style>\n",
       "<table border=\"1\" class=\"dataframe\">\n",
       "  <thead>\n",
       "    <tr style=\"text-align: right;\">\n",
       "      <th>building_type</th>\n",
       "      <th>Apartment</th>\n",
       "      <th>Mobile Home</th>\n",
       "      <th>Single-Family Home</th>\n",
       "      <th>Town Home</th>\n",
       "    </tr>\n",
       "    <tr>\n",
       "      <th>car1_y</th>\n",
       "      <th></th>\n",
       "      <th></th>\n",
       "      <th></th>\n",
       "      <th></th>\n",
       "    </tr>\n",
       "  </thead>\n",
       "  <tbody>\n",
       "    <tr>\n",
       "      <th>0</th>\n",
       "      <td>1</td>\n",
       "      <td>1</td>\n",
       "      <td>160</td>\n",
       "      <td>7</td>\n",
       "    </tr>\n",
       "    <tr>\n",
       "      <th>1</th>\n",
       "      <td>0</td>\n",
       "      <td>0</td>\n",
       "      <td>41</td>\n",
       "      <td>4</td>\n",
       "    </tr>\n",
       "  </tbody>\n",
       "</table>\n",
       "</div>"
      ],
      "text/plain": [
       "building_type  Apartment  Mobile Home  Single-Family Home  Town Home\n",
       "car1_y                                                              \n",
       "0                      1            1                 160          7\n",
       "1                      0            0                  41          4"
      ]
     },
     "execution_count": 19,
     "metadata": {},
     "output_type": "execute_result"
    }
   ],
   "source": [
    "# building type and EV\n",
    "buildingtype_EV = pd.crosstab(index=df[\"car1_y\"],\n",
    "                       columns=[df['building_type']])\n",
    "\n",
    "buildingtype_EV"
   ]
  },
  {
   "cell_type": "code",
   "execution_count": 20,
   "metadata": {},
   "outputs": [
    {
     "data": {
      "text/plain": [
       "<matplotlib.legend.Legend at 0x1cf5bb7c8d0>"
      ]
     },
     "execution_count": 20,
     "metadata": {},
     "output_type": "execute_result"
    },
    {
     "data": {
      "image/png": "[encoded data removed]",
      "text/plain": [
       "<Figure size 432x288 with 1 Axes>"
      ]
     },
     "metadata": {
      "needs_background": "light"
     },
     "output_type": "display_data"
    }
   ],
   "source": [
    "buildingtype_EV.T.plot(kind='bar', color=['c','m'], grid=False)\n",
    "plt.legend(['noEV', 'EV'])"
   ]
  },
  {
   "cell_type": "code",
   "execution_count": 21,
   "metadata": {},
   "outputs": [
    {
     "data": {
      "text/plain": [
       "<matplotlib.legend.Legend at 0x1cf5baf7f28>"
      ]
     },
     "execution_count": 21,
     "metadata": {},
     "output_type": "execute_result"
    },
    {
     "data": {
      "image/png": "[encoded data removed]",
      "text/plain": [
       "<Figure size 432x288 with 1 Axes>"
      ]
     },
     "metadata": {
      "needs_background": "light"
     },
     "output_type": "display_data"
    }
   ],
   "source": [
    "#location and eV\n",
    "city_EV = pd.crosstab(index=df[\"car1_y\"],\n",
    "                       columns=[df['city']])\n",
    "city_EV.T.plot(kind='bar', color=['c','m'], grid=False)\n",
    "plt.legend(['noEV', 'EV'])"
   ]
  },
  {
   "cell_type": "code",
   "execution_count": 22,
   "metadata": {},
   "outputs": [
    {
     "data": {
      "text/html": [
       "<div>\n",
       "<style scoped>\n",
       "    .dataframe tbody tr th:only-of-type {\n",
       "        vertical-align: middle;\n",
       "    }\n",
       "\n",
       "    .dataframe tbody tr th {\n",
       "        vertical-align: top;\n",
       "    }\n",
       "\n",
       "    .dataframe thead th {\n",
       "        text-align: right;\n",
       "    }\n",
       "</style>\n",
       "<table border=\"1\" class=\"dataframe\">\n",
       "  <thead>\n",
       "    <tr style=\"text-align: right;\">\n",
       "      <th>city</th>\n",
       "      <th>Austin</th>\n",
       "      <th>Boulder</th>\n",
       "      <th>Coppell</th>\n",
       "      <th>Dallas</th>\n",
       "      <th>Grapevine</th>\n",
       "      <th>Houston</th>\n",
       "      <th>Humble</th>\n",
       "      <th>Plano</th>\n",
       "      <th>San Diego</th>\n",
       "    </tr>\n",
       "    <tr>\n",
       "      <th>car1_y</th>\n",
       "      <th></th>\n",
       "      <th></th>\n",
       "      <th></th>\n",
       "      <th></th>\n",
       "      <th></th>\n",
       "      <th></th>\n",
       "      <th></th>\n",
       "      <th></th>\n",
       "      <th></th>\n",
       "    </tr>\n",
       "  </thead>\n",
       "  <tbody>\n",
       "    <tr>\n",
       "      <th>0</th>\n",
       "      <td>145</td>\n",
       "      <td>14</td>\n",
       "      <td>1</td>\n",
       "      <td>3</td>\n",
       "      <td>1</td>\n",
       "      <td>1</td>\n",
       "      <td>1</td>\n",
       "      <td>1</td>\n",
       "      <td>2</td>\n",
       "    </tr>\n",
       "    <tr>\n",
       "      <th>1</th>\n",
       "      <td>42</td>\n",
       "      <td>2</td>\n",
       "      <td>0</td>\n",
       "      <td>0</td>\n",
       "      <td>0</td>\n",
       "      <td>0</td>\n",
       "      <td>0</td>\n",
       "      <td>1</td>\n",
       "      <td>0</td>\n",
       "    </tr>\n",
       "  </tbody>\n",
       "</table>\n",
       "</div>"
      ],
      "text/plain": [
       "city    Austin  Boulder  Coppell  Dallas  Grapevine  Houston  Humble  Plano  \\\n",
       "car1_y                                                                        \n",
       "0          145       14        1       3          1        1       1      1   \n",
       "1           42        2        0       0          0        0       0      1   \n",
       "\n",
       "city    San Diego  \n",
       "car1_y             \n",
       "0               2  \n",
       "1               0  "
      ]
     },
     "execution_count": 22,
     "metadata": {},
     "output_type": "execute_result"
    }
   ],
   "source": [
    "city_EV"
   ]
  },
  {
   "cell_type": "markdown",
   "metadata": {},
   "source": [
    "## Continuous Features"
   ]
  },
  {
   "cell_type": "code",
   "execution_count": 24,
   "metadata": {},
   "outputs": [
    {
     "data": {
      "image/png": "[encoded data removed]",
      "text/plain": [
       "<Figure size 432x288 with 1 Axes>"
      ]
     },
     "metadata": {
      "needs_background": "light"
     },
     "output_type": "display_data"
    }
   ],
   "source": [
    "plt.hist(df['use'])\n",
    "plt.title(\"histogram of energy use\")\n",
    "plt.show()"
   ]
  },
  {
   "cell_type": "code",
   "execution_count": 25,
   "metadata": {},
   "outputs": [
    {
     "data": {
      "image/png": "[encoded data removed]",
      "text/plain": [
       "<Figure size 432x288 with 1 Axes>"
      ]
     },
     "metadata": {
      "needs_background": "light"
     },
     "output_type": "display_data"
    }
   ],
   "source": [
    "plt.hist(df['house_construction_year'])\n",
    "plt.title(\"histogram of house year\")\n",
    "plt.show()"
   ]
  },
  {
   "cell_type": "code",
   "execution_count": 26,
   "metadata": {},
   "outputs": [
    {
     "data": {
      "image/png": "[encoded data removed]",
      "text/plain": [
       "<Figure size 432x288 with 1 Axes>"
      ]
     },
     "metadata": {
      "needs_background": "light"
     },
     "output_type": "display_data"
    }
   ],
   "source": [
    "plt.hist(df['total_square_footage'])\n",
    "plt.title(\"histogram of square footage\")\n",
    "plt.show()"
   ]
  },
  {
   "cell_type": "markdown",
   "metadata": {},
   "source": [
    "# identifying outliers"
   ]
  },
  {
   "cell_type": "code",
   "execution_count": 31,
   "metadata": {},
   "outputs": [],
   "source": [
    "#outliers for construction year\n",
    "sortedconstructionyear = df.sort_values(by=['house_construction_year'])\n",
    "q1, q3 = np.percentile(sortedconstructionyear['house_construction_year'], [25,75])\n",
    "IQR = q3 - q1\n",
    "lowerbound = q1 -(1.5*IQR)\n",
    "upperbound = q3 +(1.5*IQR)\n",
    "df = df.loc[(df['house_construction_year']>lowerbound)&(df['house_construction_year']<upperbound)]"
   ]
  },
  {
   "cell_type": "code",
   "execution_count": 32,
   "metadata": {},
   "outputs": [],
   "source": [
    "#outliers for square footage\n",
    "sortedsqfeet = df.sort_values(by=['total_square_footage'])\n",
    "q1, q3 = np.percentile(sortedsqfeet['total_square_footage'], [25,75])\n",
    "IQR = q3 - q1\n",
    "lowerbound = q1 -(1.5*IQR)\n",
    "upperbound = q3 +(1.5*IQR)\n",
    "df = df.loc[(df['total_square_footage']>lowerbound)&(df['total_square_footage']<upperbound)]"
   ]
  },
  {
   "cell_type": "code",
   "execution_count": 35,
   "metadata": {},
   "outputs": [],
   "source": [
    "#outliers for use\n",
    "sorteduse = df.sort_values(by=['use'])\n",
    "q1, q3 = np.percentile(sorteduse['use'], [25,75])\n",
    "IQR = q3 - q1\n",
    "lowerbound = q1 -(1.5*IQR)\n",
    "upperbound = q3 +(1.5*IQR)\n",
    "df = df.loc[(df['use']>lowerbound)&(df['use']<upperbound)]"
   ]
  },
  {
   "cell_type": "markdown",
   "metadata": {},
   "source": [
    "# Plots\n"
   ]
  },
  {
   "cell_type": "code",
   "execution_count": 37,
   "metadata": {},
   "outputs": [],
   "source": [
    "#plot EV with other features to see how they relate\n",
    "groupbyEV =df.groupby('car1_y')"
   ]
  },
  {
   "cell_type": "code",
   "execution_count": 38,
   "metadata": {},
   "outputs": [
    {
     "data": {
      "image/png": "[encoded data removed]",
      "text/plain": [
       "<Figure size 864x720 with 3 Axes>"
      ]
     },
     "metadata": {
      "needs_background": "light"
     },
     "output_type": "display_data"
    }
   ],
   "source": [
    "fig, axes = plt.subplots(nrows=1, ncols=3, figsize=(12,10))\n",
    "for axis, col in zip(axes, ['use', 'total_square_footage', 'house_construction_year']):\n",
    "    groupbyEV[col].hist(ax=axis)\n",
    "    "
   ]
  },
  {
   "cell_type": "code",
   "execution_count": 40,
   "metadata": {},
   "outputs": [
    {
     "data": {
      "image/png": "[encoded data removed]",
      "text/plain": [
       "<Figure size 432x288 with 1 Axes>"
      ]
     },
     "metadata": {
      "needs_background": "light"
     },
     "output_type": "display_data"
    },
    {
     "data": {
      "image/png": "[encoded data removed]",
      "text/plain": [
       "<Figure size 432x288 with 1 Axes>"
      ]
     },
     "metadata": {
      "needs_background": "light"
     },
     "output_type": "display_data"
    },
    {
     "data": {
      "image/png": "[encoded data removed]",
      "text/plain": [
       "<Figure size 432x288 with 1 Axes>"
      ]
     },
     "metadata": {
      "needs_background": "light"
     },
     "output_type": "display_data"
    }
   ],
   "source": [
    "boxplotuse = df.boxplot(column=['use'], by = 'car1_y')\n",
    "plt.suptitle(\"\")\n",
    "plt.show()\n",
    "boxplotyear = df.boxplot(column=['house_construction_year'], by = 'car1_y')\n",
    "plt.suptitle(\"\")\n",
    "plt.show()\n",
    "boxplotsqfeet = df.boxplot(column=['total_square_footage'], by = 'car1_y')\n",
    "plt.suptitle(\"\")\n",
    "plt.show()\n"
   ]
  },
  {
   "cell_type": "markdown",
   "metadata": {},
   "source": [
    "# one hot encoding"
   ]
  },
  {
   "cell_type": "code",
   "execution_count": 41,
   "metadata": {},
   "outputs": [
    {
     "data": {
      "text/html": [
       "<div>\n",
       "<style scoped>\n",
       "    .dataframe tbody tr th:only-of-type {\n",
       "        vertical-align: middle;\n",
       "    }\n",
       "\n",
       "    .dataframe tbody tr th {\n",
       "        vertical-align: top;\n",
       "    }\n",
       "\n",
       "    .dataframe thead th {\n",
       "        text-align: right;\n",
       "    }\n",
       "</style>\n",
       "<table border=\"1\" class=\"dataframe\">\n",
       "  <thead>\n",
       "    <tr style=\"text-align: right;\">\n",
       "      <th></th>\n",
       "      <th>dataid</th>\n",
       "      <th>use</th>\n",
       "      <th>city</th>\n",
       "      <th>pv</th>\n",
       "      <th>house_construction_year</th>\n",
       "      <th>total_square_footage</th>\n",
       "      <th>car1_y</th>\n",
       "      <th>Apartment</th>\n",
       "      <th>Mobile Home</th>\n",
       "      <th>Single-Family Home</th>\n",
       "      <th>Town Home</th>\n",
       "    </tr>\n",
       "  </thead>\n",
       "  <tbody>\n",
       "    <tr>\n",
       "      <th>0</th>\n",
       "      <td>59</td>\n",
       "      <td>1.752956</td>\n",
       "      <td>Austin</td>\n",
       "      <td>0</td>\n",
       "      <td>2011.0</td>\n",
       "      <td>3825.0</td>\n",
       "      <td>0</td>\n",
       "      <td>0</td>\n",
       "      <td>0</td>\n",
       "      <td>1</td>\n",
       "      <td>0</td>\n",
       "    </tr>\n",
       "    <tr>\n",
       "      <th>1</th>\n",
       "      <td>77</td>\n",
       "      <td>1.638684</td>\n",
       "      <td>Austin</td>\n",
       "      <td>1</td>\n",
       "      <td>2009.0</td>\n",
       "      <td>2669.0</td>\n",
       "      <td>0</td>\n",
       "      <td>0</td>\n",
       "      <td>0</td>\n",
       "      <td>1</td>\n",
       "      <td>0</td>\n",
       "    </tr>\n",
       "    <tr>\n",
       "      <th>2</th>\n",
       "      <td>86</td>\n",
       "      <td>1.495249</td>\n",
       "      <td>Austin</td>\n",
       "      <td>0</td>\n",
       "      <td>1948.0</td>\n",
       "      <td>1788.0</td>\n",
       "      <td>0</td>\n",
       "      <td>0</td>\n",
       "      <td>0</td>\n",
       "      <td>1</td>\n",
       "      <td>0</td>\n",
       "    </tr>\n",
       "    <tr>\n",
       "      <th>3</th>\n",
       "      <td>93</td>\n",
       "      <td>1.051423</td>\n",
       "      <td>Austin</td>\n",
       "      <td>1</td>\n",
       "      <td>1993.0</td>\n",
       "      <td>2934.0</td>\n",
       "      <td>0</td>\n",
       "      <td>0</td>\n",
       "      <td>0</td>\n",
       "      <td>1</td>\n",
       "      <td>0</td>\n",
       "    </tr>\n",
       "    <tr>\n",
       "      <th>4</th>\n",
       "      <td>94</td>\n",
       "      <td>0.691208</td>\n",
       "      <td>Austin</td>\n",
       "      <td>0</td>\n",
       "      <td>1975.0</td>\n",
       "      <td>1713.0</td>\n",
       "      <td>0</td>\n",
       "      <td>0</td>\n",
       "      <td>0</td>\n",
       "      <td>1</td>\n",
       "      <td>0</td>\n",
       "    </tr>\n",
       "  </tbody>\n",
       "</table>\n",
       "</div>"
      ],
      "text/plain": [
       "   dataid       use    city  pv  house_construction_year  \\\n",
       "0      59  1.752956  Austin   0                   2011.0   \n",
       "1      77  1.638684  Austin   1                   2009.0   \n",
       "2      86  1.495249  Austin   0                   1948.0   \n",
       "3      93  1.051423  Austin   1                   1993.0   \n",
       "4      94  0.691208  Austin   0                   1975.0   \n",
       "\n",
       "   total_square_footage  car1_y  Apartment  Mobile Home  Single-Family Home  \\\n",
       "0                3825.0       0          0            0                   1   \n",
       "1                2669.0       0          0            0                   1   \n",
       "2                1788.0       0          0            0                   1   \n",
       "3                2934.0       0          0            0                   1   \n",
       "4                1713.0       0          0            0                   1   \n",
       "\n",
       "   Town Home  \n",
       "0          0  \n",
       "1          0  \n",
       "2          0  \n",
       "3          0  \n",
       "4          0  "
      ]
     },
     "execution_count": 41,
     "metadata": {},
     "output_type": "execute_result"
    }
   ],
   "source": [
    "#one hot encoding on building type\n",
    "one_hot = pd.get_dummies(df['building_type'])\n",
    "#drop the building type column\n",
    "df = df.drop(['building_type'], axis=1)\n",
    "#join in one hot encoding\n",
    "df = df.join(one_hot)\n",
    "df.head()"
   ]
  },
  {
   "cell_type": "code",
   "execution_count": 42,
   "metadata": {},
   "outputs": [
    {
     "data": {
      "text/html": [
       "<div>\n",
       "<style scoped>\n",
       "    .dataframe tbody tr th:only-of-type {\n",
       "        vertical-align: middle;\n",
       "    }\n",
       "\n",
       "    .dataframe tbody tr th {\n",
       "        vertical-align: top;\n",
       "    }\n",
       "\n",
       "    .dataframe thead th {\n",
       "        text-align: right;\n",
       "    }\n",
       "</style>\n",
       "<table border=\"1\" class=\"dataframe\">\n",
       "  <thead>\n",
       "    <tr style=\"text-align: right;\">\n",
       "      <th></th>\n",
       "      <th>dataid</th>\n",
       "      <th>use</th>\n",
       "      <th>pv</th>\n",
       "      <th>house_construction_year</th>\n",
       "      <th>total_square_footage</th>\n",
       "      <th>car1_y</th>\n",
       "      <th>Apartment</th>\n",
       "      <th>Mobile Home</th>\n",
       "      <th>Single-Family Home</th>\n",
       "      <th>Town Home</th>\n",
       "      <th>Austin</th>\n",
       "      <th>Boulder</th>\n",
       "      <th>Dallas</th>\n",
       "      <th>Grapevine</th>\n",
       "      <th>Houston</th>\n",
       "      <th>Humble</th>\n",
       "      <th>Plano</th>\n",
       "      <th>San Diego</th>\n",
       "    </tr>\n",
       "  </thead>\n",
       "  <tbody>\n",
       "    <tr>\n",
       "      <th>0</th>\n",
       "      <td>59</td>\n",
       "      <td>1.752956</td>\n",
       "      <td>0</td>\n",
       "      <td>2011.0</td>\n",
       "      <td>3825.0</td>\n",
       "      <td>0</td>\n",
       "      <td>0</td>\n",
       "      <td>0</td>\n",
       "      <td>1</td>\n",
       "      <td>0</td>\n",
       "      <td>1</td>\n",
       "      <td>0</td>\n",
       "      <td>0</td>\n",
       "      <td>0</td>\n",
       "      <td>0</td>\n",
       "      <td>0</td>\n",
       "      <td>0</td>\n",
       "      <td>0</td>\n",
       "    </tr>\n",
       "    <tr>\n",
       "      <th>1</th>\n",
       "      <td>77</td>\n",
       "      <td>1.638684</td>\n",
       "      <td>1</td>\n",
       "      <td>2009.0</td>\n",
       "      <td>2669.0</td>\n",
       "      <td>0</td>\n",
       "      <td>0</td>\n",
       "      <td>0</td>\n",
       "      <td>1</td>\n",
       "      <td>0</td>\n",
       "      <td>1</td>\n",
       "      <td>0</td>\n",
       "      <td>0</td>\n",
       "      <td>0</td>\n",
       "      <td>0</td>\n",
       "      <td>0</td>\n",
       "      <td>0</td>\n",
       "      <td>0</td>\n",
       "    </tr>\n",
       "    <tr>\n",
       "      <th>2</th>\n",
       "      <td>86</td>\n",
       "      <td>1.495249</td>\n",
       "      <td>0</td>\n",
       "      <td>1948.0</td>\n",
       "      <td>1788.0</td>\n",
       "      <td>0</td>\n",
       "      <td>0</td>\n",
       "      <td>0</td>\n",
       "      <td>1</td>\n",
       "      <td>0</td>\n",
       "      <td>1</td>\n",
       "      <td>0</td>\n",
       "      <td>0</td>\n",
       "      <td>0</td>\n",
       "      <td>0</td>\n",
       "      <td>0</td>\n",
       "      <td>0</td>\n",
       "      <td>0</td>\n",
       "    </tr>\n",
       "    <tr>\n",
       "      <th>3</th>\n",
       "      <td>93</td>\n",
       "      <td>1.051423</td>\n",
       "      <td>1</td>\n",
       "      <td>1993.0</td>\n",
       "      <td>2934.0</td>\n",
       "      <td>0</td>\n",
       "      <td>0</td>\n",
       "      <td>0</td>\n",
       "      <td>1</td>\n",
       "      <td>0</td>\n",
       "      <td>1</td>\n",
       "      <td>0</td>\n",
       "      <td>0</td>\n",
       "      <td>0</td>\n",
       "      <td>0</td>\n",
       "      <td>0</td>\n",
       "      <td>0</td>\n",
       "      <td>0</td>\n",
       "    </tr>\n",
       "    <tr>\n",
       "      <th>4</th>\n",
       "      <td>94</td>\n",
       "      <td>0.691208</td>\n",
       "      <td>0</td>\n",
       "      <td>1975.0</td>\n",
       "      <td>1713.0</td>\n",
       "      <td>0</td>\n",
       "      <td>0</td>\n",
       "      <td>0</td>\n",
       "      <td>1</td>\n",
       "      <td>0</td>\n",
       "      <td>1</td>\n",
       "      <td>0</td>\n",
       "      <td>0</td>\n",
       "      <td>0</td>\n",
       "      <td>0</td>\n",
       "      <td>0</td>\n",
       "      <td>0</td>\n",
       "      <td>0</td>\n",
       "    </tr>\n",
       "  </tbody>\n",
       "</table>\n",
       "</div>"
      ],
      "text/plain": [
       "   dataid       use  pv  house_construction_year  total_square_footage  \\\n",
       "0      59  1.752956   0                   2011.0                3825.0   \n",
       "1      77  1.638684   1                   2009.0                2669.0   \n",
       "2      86  1.495249   0                   1948.0                1788.0   \n",
       "3      93  1.051423   1                   1993.0                2934.0   \n",
       "4      94  0.691208   0                   1975.0                1713.0   \n",
       "\n",
       "   car1_y  Apartment  Mobile Home  Single-Family Home  Town Home  Austin  \\\n",
       "0       0          0            0                   1          0       1   \n",
       "1       0          0            0                   1          0       1   \n",
       "2       0          0            0                   1          0       1   \n",
       "3       0          0            0                   1          0       1   \n",
       "4       0          0            0                   1          0       1   \n",
       "\n",
       "   Boulder  Dallas  Grapevine  Houston  Humble  Plano  San Diego  \n",
       "0        0       0          0        0       0      0          0  \n",
       "1        0       0          0        0       0      0          0  \n",
       "2        0       0          0        0       0      0          0  \n",
       "3        0       0          0        0       0      0          0  \n",
       "4        0       0          0        0       0      0          0  "
      ]
     },
     "execution_count": 42,
     "metadata": {},
     "output_type": "execute_result"
    }
   ],
   "source": [
    "#one hot encoding on city\n",
    "one_hot = pd.get_dummies(df['city'])\n",
    "#drop the building type column\n",
    "df = df.drop(['city'], axis=1)\n",
    "#join in one hot encoding\n",
    "df = df.join(one_hot)\n",
    "df.head()"
   ]
  },
  {
   "cell_type": "code",
   "execution_count": 43,
   "metadata": {},
   "outputs": [
    {
     "data": {
      "text/html": [
       "<div>\n",
       "<style scoped>\n",
       "    .dataframe tbody tr th:only-of-type {\n",
       "        vertical-align: middle;\n",
       "    }\n",
       "\n",
       "    .dataframe tbody tr th {\n",
       "        vertical-align: top;\n",
       "    }\n",
       "\n",
       "    .dataframe thead th {\n",
       "        text-align: right;\n",
       "    }\n",
       "</style>\n",
       "<table border=\"1\" class=\"dataframe\">\n",
       "  <thead>\n",
       "    <tr style=\"text-align: right;\">\n",
       "      <th></th>\n",
       "      <th>dataid</th>\n",
       "      <th>use</th>\n",
       "      <th>pv</th>\n",
       "      <th>total_square_footage</th>\n",
       "      <th>car1_y</th>\n",
       "      <th>Apartment</th>\n",
       "      <th>Mobile Home</th>\n",
       "      <th>Single-Family Home</th>\n",
       "      <th>Town Home</th>\n",
       "      <th>Austin</th>\n",
       "      <th>...</th>\n",
       "      <th>2002.0</th>\n",
       "      <th>2005.0</th>\n",
       "      <th>2006.0</th>\n",
       "      <th>2007.0</th>\n",
       "      <th>2008.0</th>\n",
       "      <th>2009.0</th>\n",
       "      <th>2010.0</th>\n",
       "      <th>2011.0</th>\n",
       "      <th>2012.0</th>\n",
       "      <th>2013.0</th>\n",
       "    </tr>\n",
       "  </thead>\n",
       "  <tbody>\n",
       "    <tr>\n",
       "      <th>0</th>\n",
       "      <td>59</td>\n",
       "      <td>1.752956</td>\n",
       "      <td>0</td>\n",
       "      <td>3825.0</td>\n",
       "      <td>0</td>\n",
       "      <td>0</td>\n",
       "      <td>0</td>\n",
       "      <td>1</td>\n",
       "      <td>0</td>\n",
       "      <td>1</td>\n",
       "      <td>...</td>\n",
       "      <td>0</td>\n",
       "      <td>0</td>\n",
       "      <td>0</td>\n",
       "      <td>0</td>\n",
       "      <td>0</td>\n",
       "      <td>0</td>\n",
       "      <td>0</td>\n",
       "      <td>1</td>\n",
       "      <td>0</td>\n",
       "      <td>0</td>\n",
       "    </tr>\n",
       "    <tr>\n",
       "      <th>1</th>\n",
       "      <td>77</td>\n",
       "      <td>1.638684</td>\n",
       "      <td>1</td>\n",
       "      <td>2669.0</td>\n",
       "      <td>0</td>\n",
       "      <td>0</td>\n",
       "      <td>0</td>\n",
       "      <td>1</td>\n",
       "      <td>0</td>\n",
       "      <td>1</td>\n",
       "      <td>...</td>\n",
       "      <td>0</td>\n",
       "      <td>0</td>\n",
       "      <td>0</td>\n",
       "      <td>0</td>\n",
       "      <td>0</td>\n",
       "      <td>1</td>\n",
       "      <td>0</td>\n",
       "      <td>0</td>\n",
       "      <td>0</td>\n",
       "      <td>0</td>\n",
       "    </tr>\n",
       "    <tr>\n",
       "      <th>2</th>\n",
       "      <td>86</td>\n",
       "      <td>1.495249</td>\n",
       "      <td>0</td>\n",
       "      <td>1788.0</td>\n",
       "      <td>0</td>\n",
       "      <td>0</td>\n",
       "      <td>0</td>\n",
       "      <td>1</td>\n",
       "      <td>0</td>\n",
       "      <td>1</td>\n",
       "      <td>...</td>\n",
       "      <td>0</td>\n",
       "      <td>0</td>\n",
       "      <td>0</td>\n",
       "      <td>0</td>\n",
       "      <td>0</td>\n",
       "      <td>0</td>\n",
       "      <td>0</td>\n",
       "      <td>0</td>\n",
       "      <td>0</td>\n",
       "      <td>0</td>\n",
       "    </tr>\n",
       "    <tr>\n",
       "      <th>3</th>\n",
       "      <td>93</td>\n",
       "      <td>1.051423</td>\n",
       "      <td>1</td>\n",
       "      <td>2934.0</td>\n",
       "      <td>0</td>\n",
       "      <td>0</td>\n",
       "      <td>0</td>\n",
       "      <td>1</td>\n",
       "      <td>0</td>\n",
       "      <td>1</td>\n",
       "      <td>...</td>\n",
       "      <td>0</td>\n",
       "      <td>0</td>\n",
       "      <td>0</td>\n",
       "      <td>0</td>\n",
       "      <td>0</td>\n",
       "      <td>0</td>\n",
       "      <td>0</td>\n",
       "      <td>0</td>\n",
       "      <td>0</td>\n",
       "      <td>0</td>\n",
       "    </tr>\n",
       "    <tr>\n",
       "      <th>4</th>\n",
       "      <td>94</td>\n",
       "      <td>0.691208</td>\n",
       "      <td>0</td>\n",
       "      <td>1713.0</td>\n",
       "      <td>0</td>\n",
       "      <td>0</td>\n",
       "      <td>0</td>\n",
       "      <td>1</td>\n",
       "      <td>0</td>\n",
       "      <td>1</td>\n",
       "      <td>...</td>\n",
       "      <td>0</td>\n",
       "      <td>0</td>\n",
       "      <td>0</td>\n",
       "      <td>0</td>\n",
       "      <td>0</td>\n",
       "      <td>0</td>\n",
       "      <td>0</td>\n",
       "      <td>0</td>\n",
       "      <td>0</td>\n",
       "      <td>0</td>\n",
       "    </tr>\n",
       "  </tbody>\n",
       "</table>\n",
       "<p>5 rows × 77 columns</p>\n",
       "</div>"
      ],
      "text/plain": [
       "   dataid       use  pv  total_square_footage  car1_y  Apartment  Mobile Home  \\\n",
       "0      59  1.752956   0                3825.0       0          0            0   \n",
       "1      77  1.638684   1                2669.0       0          0            0   \n",
       "2      86  1.495249   0                1788.0       0          0            0   \n",
       "3      93  1.051423   1                2934.0       0          0            0   \n",
       "4      94  0.691208   0                1713.0       0          0            0   \n",
       "\n",
       "   Single-Family Home  Town Home  Austin  ...  2002.0  2005.0  2006.0  2007.0  \\\n",
       "0                   1          0       1  ...       0       0       0       0   \n",
       "1                   1          0       1  ...       0       0       0       0   \n",
       "2                   1          0       1  ...       0       0       0       0   \n",
       "3                   1          0       1  ...       0       0       0       0   \n",
       "4                   1          0       1  ...       0       0       0       0   \n",
       "\n",
       "   2008.0  2009.0  2010.0  2011.0  2012.0  2013.0  \n",
       "0       0       0       0       1       0       0  \n",
       "1       0       1       0       0       0       0  \n",
       "2       0       0       0       0       0       0  \n",
       "3       0       0       0       0       0       0  \n",
       "4       0       0       0       0       0       0  \n",
       "\n",
       "[5 rows x 77 columns]"
      ]
     },
     "execution_count": 43,
     "metadata": {},
     "output_type": "execute_result"
    }
   ],
   "source": [
    "#one hot encoding on building type\n",
    "one_hot = pd.get_dummies(df['house_construction_year'])\n",
    "#drop the building type column\n",
    "df = df.drop(['house_construction_year'], axis=1)\n",
    "#join in one hot encoding\n",
    "df = df.join(one_hot)\n",
    "df.head()"
   ]
  },
  {
   "cell_type": "markdown",
   "metadata": {},
   "source": [
    "# Correlation"
   ]
  },
  {
   "cell_type": "code",
   "execution_count": null,
   "metadata": {},
   "outputs": [],
   "source": []
  }
 ],
 "metadata": {
  "kernelspec": {
   "display_name": "Python 3",
   "language": "python",
   "name": "python3"
  },
  "language_info": {
   "codemirror_mode": {
    "name": "ipython",
    "version": 3
   },
   "file_extension": ".py",
   "mimetype": "text/x-python",
   "name": "python",
   "nbconvert_exporter": "python",
   "pygments_lexer": "ipython3",
   "version": "3.7.2"
  }
 },
 "nbformat": 4,
 "nbformat_minor": 2
}
